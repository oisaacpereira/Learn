{
 "cells": [
  {
   "cell_type": "markdown",
   "id": "dcfa6ebd",
   "metadata": {},
   "source": [
    "# Exercicios"
   ]
  },
  {
   "cell_type": "code",
   "execution_count": null,
   "id": "6107a1f4",
   "metadata": {},
   "outputs": [],
   "source": [
    "# Minhas Variaveis\n",
    "\n",
    "salario = 3450.45\n",
    "despesas = 2456.2\n",
    "\n",
    "# Resposta \n",
    "percentual_comprometido = despesas / salario * 100\n",
    "percentual_comprometido"
   ]
  },
  {
   "cell_type": "code",
   "execution_count": null,
   "id": "837484a0",
   "metadata": {},
   "outputs": [],
   "source": [
    "import name"
   ]
  },
  {
   "cell_type": "markdown",
   "id": "e1652f14",
   "metadata": {},
   "source": [
    "# if else_1 - Estruturas de Controle"
   ]
  },
  {
   "cell_type": "code",
   "execution_count": null,
   "id": "4c5edc8a",
   "metadata": {},
   "outputs": [],
   "source": [
    "def nota_conceito(valor):\n",
    "    nota = float(valor)\n",
    "    \n",
    "    if nota > 10:\n",
    "        return 'Nota invalida'\n",
    "    elif nota >= 9.1:\n",
    "        return 'A'\n",
    "    elif nota >= 8.1:\n",
    "        return 'A-'\n",
    "    elif nota >= 7.1:\n",
    "        return 'B'\n",
    "    elif nota >= 6.1:\n",
    "        return 'B-'\n",
    "    elif nota >= 5.1:\n",
    "        return 'C'\n",
    "    elif nota >= 4.1:\n",
    "        return 'C-'\n",
    "    elif nota >= 3.1:\n",
    "        return 'D'\n",
    "    elif nota >= 2.1:\n",
    "        return 'D-'\n",
    "    elif nota >= 1.1:\n",
    "        return 'E'\n",
    "    elif nota >= 0:\n",
    "        return 'E-'\n",
    "    else:\n",
    "        return \"nota invalida\"\n",
    "    \n",
    "\n",
    "if __name__ == '__main__':\n",
    "    valor_informado = input('Nota do aluno: ')\n",
    "    conceito = nota_conceito(valor_informado)\n",
    "    print(conceito)"
   ]
  },
  {
   "cell_type": "markdown",
   "id": "b5bb0353",
   "metadata": {},
   "source": [
    "# if else_2 - Estruturas de Controle"
   ]
  },
  {
   "cell_type": "code",
   "execution_count": null,
   "id": "49cb8fe9",
   "metadata": {},
   "outputs": [],
   "source": [
    "def faixa_etaria(idade):\n",
    "    if 0 <= idade < 18:\n",
    "        return 'Menor de idade'\n",
    "    elif idade in range(18, 65):\n",
    "        return 'Adulto'\n",
    "    elif idade in range(65, 100):\n",
    "        return 'Melhor idade'\n",
    "    elif idade >= 100:\n",
    "        return 'Centenário'\n",
    "    else:\n",
    "        return 'idade inválida'\n",
    "\n",
    "\n",
    "if __name__ == '__main__':\n",
    "    for idade in (17, 0, 35, 87, 113, -2):\n",
    "        print(f'{idade}: {faixa_etaria(idade)}')\n",
    "        \n",
    "        "
   ]
  },
  {
   "cell_type": "markdown",
   "id": "266526c2",
   "metadata": {},
   "source": [
    "# FOR Estruturas de Controle\n",
    "\n"
   ]
  },
  {
   "cell_type": "code",
   "execution_count": null,
   "id": "221a6a5b",
   "metadata": {},
   "outputs": [],
   "source": [
    "#FOR 1 \n",
    "\n",
    "for i in range(1, 11):\n",
    "    print('i = {}'.format(i))\n",
    "\n",
    "for j in range(10):\n",
    "    print(f'j = {j}')\n",
    "\n",
    "for x in range(1, 11):\n",
    "    for y in range(1, 11):\n",
    "        print(f'{x} * {y} = {x * y}')"
   ]
  },
  {
   "cell_type": "code",
   "execution_count": null,
   "id": "6a3b93f8",
   "metadata": {},
   "outputs": [],
   "source": []
  },
  {
   "cell_type": "code",
   "execution_count": null,
   "id": "367c2692",
   "metadata": {},
   "outputs": [],
   "source": [
    "#FOR 2\n",
    "\n",
    "palavra = 'paralelepípedo'\n",
    "for letra in palavra:\n",
    "    print(letra, end=',')\n",
    "print('Fim')\n",
    "\n",
    "aprovados = ['Rafaela', 'Pedro', 'Renato', 'Maria']\n",
    "for nome in aprovados:\n",
    "    print(nome)\n",
    "\n",
    "for posicao, nome in enumerate(aprovados):\n",
    "    print(f'{posicao + 1})', nome)\n",
    "\n",
    "dias_semana = ('Domingo', 'Segunda', 'Terça',\n",
    "               'Quarta', 'Quinta', 'Sexta', 'Sábado')\n",
    "for dia in dias_semana:\n",
    "    print(f'Hoje é {dia}')\n",
    "\n",
    "for numero in {1, 2, 3, 4, 5, 6}:\n",
    "    print(numero)"
   ]
  },
  {
   "cell_type": "code",
   "execution_count": null,
   "id": "baa2b497",
   "metadata": {},
   "outputs": [],
   "source": []
  },
  {
   "cell_type": "code",
   "execution_count": null,
   "id": "ad6e072e",
   "metadata": {},
   "outputs": [],
   "source": [
    "# FOR 3\n",
    "\n",
    "produto = {'nome': 'Caneta Chic', 'preco': 14.99,\n",
    "           'importada': True, 'estoque': 793}\n",
    "\n",
    "for chave in produto:\n",
    "    print(chave)\n",
    "\n",
    "for valor in produto.values():\n",
    "    print(valor)\n",
    "\n",
    "for chave, valor in produto.items():\n",
    "    print(chave, '=', valor)\n",
    "\n",
    "print(chave, valor)"
   ]
  },
  {
   "cell_type": "code",
   "execution_count": null,
   "id": "a470e19d",
   "metadata": {},
   "outputs": [],
   "source": []
  },
  {
   "cell_type": "code",
   "execution_count": null,
   "id": "03912e2f",
   "metadata": {},
   "outputs": [],
   "source": [
    "#FOR com BReake e Continue\n",
    "\n",
    "\n",
    "# for i in range(1, 11):\n",
    "#     if i == 6:\n",
    "#         break\n",
    "#     print(i)\n",
    "# else:\n",
    "#     print('Fim!')\n",
    "\n",
    "from random import randint\n",
    "\n",
    "\n",
    "def sortear_dado():\n",
    "    return randint(1, 6)\n",
    "\n",
    "\n",
    "for i in range(1, 7):\n",
    "    if i % 2 == 1:\n",
    "        continue\n",
    "\n",
    "    if sortear_dado() == i:\n",
    "        print('ACERTOU', i)\n",
    "        break\n",
    "else:\n",
    "    print('Não acertou o número!')"
   ]
  },
  {
   "cell_type": "markdown",
   "id": "bd2bdbe7",
   "metadata": {},
   "source": [
    "# Switch "
   ]
  },
  {
   "cell_type": "code",
   "execution_count": null,
   "id": "39a7fa59",
   "metadata": {},
   "outputs": [],
   "source": [
    "def get_dias_semana(dia):\n",
    "    dias = {\n",
    "        1: 'Domingo',\n",
    "        2: 'Segunda',\n",
    "        3: 'Terca',\n",
    "        4: 'Quarta',\n",
    "        5: 'Quinta',\n",
    "        6: 'Sexta',\n",
    "        7: 'Sabado',        \n",
    "    }\n",
    "    return dias.get(dia, '** invalido **')\n",
    "\n",
    "if __name__ == '__main__':\n",
    "    for dia in range(0,9):\n",
    "        print(f'{dia}: {get_dias_semana(dia)}')"
   ]
  },
  {
   "cell_type": "code",
   "execution_count": null,
   "id": "9ca51729",
   "metadata": {},
   "outputs": [],
   "source": []
  },
  {
   "cell_type": "code",
   "execution_count": null,
   "id": "f00899a3",
   "metadata": {},
   "outputs": [],
   "source": [
    "def class_diasemana(dia):\n",
    "\n",
    "    dias = {\n",
    "        1: 'Dom',\n",
    "        2: 'Seg',\n",
    "        3: 'Ter',\n",
    "        4: 'Qua',\n",
    "        5: 'Qui',\n",
    "        6: 'Sex',\n",
    "        7: 'Sab',\n",
    "    }\n",
    "    return dias.get(dia)\n",
    "\n",
    "\n",
    "for d in range(1, 8):\n",
    "    if d >= 2 and d <= 6:\n",
    "        print(class_diasemana(d) + ' - dia de semana')\n",
    "    if d == 1 or d == 7:\n",
    "        print(class_diasemana(d) + ' - final de semana')\n",
    "        "
   ]
  },
  {
   "cell_type": "code",
   "execution_count": null,
   "id": "fda10085",
   "metadata": {},
   "outputs": [],
   "source": [
    "PALAVRAS_PROIBIDAS = {'futebol', 'religiao', 'politica'}\n",
    "\n",
    "textos = [\n",
    "    'Joao gosta de futebol e politica',\n",
    "    'a praia foi divertida'\n",
    "]\n",
    "\n",
    "for texto in textos:\n",
    "    intersecao = PALAVRAS_PROIBIDAS.intersection(set(texto.lower().split()))\n",
    "    if intersecao:\n",
    "        print('Texto possui palavras proibidas:', intersecao)\n",
    "    else:\n",
    "        print('Texto autorizado:', texto)"
   ]
  },
  {
   "cell_type": "code",
   "execution_count": null,
   "id": "22b6f62c",
   "metadata": {},
   "outputs": [],
   "source": [
    "notas = ['Do', 'Re', 'Mi', 'Fa', 'Sol', 'La', 'Si']\n",
    "\n",
    "for nota in range(len(notas)):\n",
    "    notas.append(notas[0])\n",
    "    notas.pop(0)\n",
    "    print(notas)\n"
   ]
  },
  {
   "cell_type": "code",
   "execution_count": null,
   "id": "c7fbb6ac",
   "metadata": {
    "scrolled": false
   },
   "outputs": [],
   "source": [
    "notas = ['Do', 'Re', 'Mi', 'Fa', 'Sol', 'La', 'Si']\n",
    "\n",
    "for nota in range(len(notas)):\n",
    "    notas.insert(7, notas[0])\n",
    "    notas.pop(0)\n",
    "    print(notas)\n",
    "\n",
    "\n",
    "\n",
    "    \n"
   ]
  },
  {
   "cell_type": "code",
   "execution_count": null,
   "id": "ff708e4a",
   "metadata": {},
   "outputs": [],
   "source": []
  },
  {
   "cell_type": "code",
   "execution_count": 7,
   "id": "8796e00f",
   "metadata": {
    "scrolled": true
   },
   "outputs": [
    {
     "name": "stdout",
     "output_type": "stream",
     "text": [
      "['Re', 'Mi', 'Fa', 'Sol', 'La', 'Si', 'Do', 'Re']\n",
      "['Re', 'Do', 'Si', 'La', 'Sol', 'Fa', 'Mi', 'Re']\n",
      "['Mi', 'Fa', 'Sol', 'La', 'Si', 'Do', 'Re', 'Mi']\n",
      "['Mi', 'Re', 'Do', 'Si', 'La', 'Sol', 'Fa', 'Mi']\n",
      "['Fa', 'Sol', 'La', 'Si', 'Do', 'Re', 'Mi', 'Fa']\n",
      "['Fa', 'Mi', 'Re', 'Do', 'Si', 'La', 'Sol', 'Fa']\n",
      "['Sol', 'La', 'Si', 'Do', 'Re', 'Mi', 'Fa', 'Sol']\n",
      "['Sol', 'Fa', 'Mi', 'Re', 'Do', 'Si', 'La', 'Sol']\n",
      "['La', 'Si', 'Do', 'Re', 'Mi', 'Fa', 'Sol', 'La']\n",
      "['La', 'Sol', 'Fa', 'Mi', 'Re', 'Do', 'Si', 'La']\n",
      "['Si', 'Do', 'Re', 'Mi', 'Fa', 'Sol', 'La', 'Si']\n",
      "['Si', 'La', 'Sol', 'Fa', 'Mi', 'Re', 'Do', 'Si']\n",
      "['Do', 'Re', 'Mi', 'Fa', 'Sol', 'La', 'Si', 'Do']\n",
      "['Do', 'Si', 'La', 'Sol', 'Fa', 'Mi', 'Re', 'Do']\n",
      "['Re', 'Mi', 'Fa', 'Sol', 'La', 'Si', 'Do', 'Re']\n",
      "['Re', 'Do', 'Si', 'La', 'Sol', 'Fa', 'Mi', 'Re']\n"
     ]
    }
   ],
   "source": [
    "notas = ['Do', 'Re', 'Mi', 'Fa', 'Sol', 'La', 'Si', 'Do']\n",
    "\n",
    "for nota in range(len(notas)):\n",
    "    notas.insert(8, notas[1])\n",
    "    notas.pop(0)\n",
    "    print(notas)\n",
    "    print(list(reversed(notas)))\n",
    "#     for n in reversed(notas):\n",
    "#         print(n, end=' ')\n",
    "#     print()\n",
    " \n",
    "        \n",
    "        \n",
    "\n"
   ]
  },
  {
   "cell_type": "code",
   "execution_count": 108,
   "id": "f2db9255",
   "metadata": {},
   "outputs": [
    {
     "name": "stdout",
     "output_type": "stream",
     "text": [
      "Escala de Dó [Dó, Ré, Mi, Fá, Sol, Lá, Si, Dó]\n",
      "Inverso ['Dó', 'Si', 'Lá', 'Sol', 'Fá', 'Mi', 'Ré', 'Dó']\n",
      "\n",
      "Escala de Ré [Ré, Mi, Fá, Sol, Lá, Si, Dó, Ré]\n",
      "Inverso ['Ré', 'Dó', 'Si', 'Lá', 'Sol', 'Fá', 'Mi', 'Ré']\n",
      "\n",
      "Escala de Mi [Mi, Fá, Sol, Lá, Si, Dó, Ré, Mi]\n",
      "Inverso ['Mi', 'Ré', 'Dó', 'Si', 'Lá', 'Sol', 'Fá', 'Mi']\n",
      "\n",
      "Escala de Fá [Fá, Sol, Lá, Si, Dó, Ré, Mi, Fá]\n",
      "Inverso ['Fá', 'Mi', 'Ré', 'Dó', 'Si', 'Lá', 'Sol', 'Fá']\n",
      "\n",
      "Escala de Sol [Sol, Lá, Si, Dó, Ré, Mi, Fá, Sol]\n",
      "Inverso ['Sol', 'Fá', 'Mi', 'Ré', 'Dó', 'Si', 'Lá', 'Sol']\n",
      "\n",
      "Escala de Lá [Lá, Si, Dó, Ré, Mi, Fá, Sol, Lá]\n",
      "Inverso ['Lá', 'Sol', 'Fá', 'Mi', 'Ré', 'Dó', 'Si', 'Lá']\n",
      "\n",
      "Escala de Si [Si, Dó, Ré, Mi, Fá, Sol, Lá, Si]\n",
      "Inverso ['Si', 'Lá', 'Sol', 'Fá', 'Mi', 'Ré', 'Dó', 'Si']\n",
      "\n"
     ]
    }
   ],
   "source": [
    "notas = ['Dó', 'Ré', 'Mi', 'Fá', 'Sol', 'Lá', 'Si']\n",
    "\n",
    "\n",
    "for i in range(7):\n",
    "    new_list =  notas[i:] + notas[:i] + notas[i:i+1]\n",
    "    print(f'Escala de {new_list[0]}', str(new_list).replace(\"'\", \"\"))\n",
    "    print('Inverso', list(reversed(new_list)))\n",
    "    print('')\n",
    "\n"
   ]
  },
  {
   "cell_type": "code",
   "execution_count": null,
   "id": "d78c9d5a",
   "metadata": {},
   "outputs": [],
   "source": []
  }
 ],
 "metadata": {
  "kernelspec": {
   "display_name": "Python 3 (ipykernel)",
   "language": "python",
   "name": "python3"
  },
  "language_info": {
   "codemirror_mode": {
    "name": "ipython",
    "version": 3
   },
   "file_extension": ".py",
   "mimetype": "text/x-python",
   "name": "python",
   "nbconvert_exporter": "python",
   "pygments_lexer": "ipython3",
   "version": "3.9.12"
  }
 },
 "nbformat": 4,
 "nbformat_minor": 5
}
