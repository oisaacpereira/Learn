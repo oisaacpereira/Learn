{
 "cells": [
  {
   "cell_type": "code",
   "execution_count": 73,
   "id": "f40a82db",
   "metadata": {},
   "outputs": [
    {
     "name": "stdout",
     "output_type": "stream",
     "text": [
      "[1, 2, 3, 4, 5, 6, 7, 8, 9, 10]\n"
     ]
    }
   ],
   "source": [
    "# Exercício 1 - Imprima na tela os números de 1 a 10. Use uma lista para armazenar os números.\n",
    "\n",
    "lista = [1, 2, 3, 4, 5, 6, 7, 8, 9, 10]\n",
    "print(lista)"
   ]
  },
  {
   "cell_type": "code",
   "execution_count": 5,
   "id": "515182c6",
   "metadata": {},
   "outputs": [
    {
     "name": "stdout",
     "output_type": "stream",
     "text": [
      "['celular', 'mouse', 'garrafa', 'monitor', 'lapis']\n"
     ]
    }
   ],
   "source": [
    "# Exercício 2 - Crie uma lista de 5 objetos e imprima na tela\n",
    "\n",
    "lista_obj = ['celular', 'mouse', 'garrafa', 'monitor', 'lapis']\n",
    "print(lista_obj)"
   ]
  },
  {
   "cell_type": "code",
   "execution_count": 6,
   "id": "bbc62a6d",
   "metadata": {},
   "outputs": [
    {
     "name": "stdout",
     "output_type": "stream",
     "text": [
      "Parabens\n"
     ]
    }
   ],
   "source": [
    "# Exercício 3 - Crie duas strings e concatene as duas em uma terceira string\n",
    "\n",
    "palavra_01 = 'Para'\n",
    "palavra_02 = 'bens'\n",
    "palavra_03 = palavra_01 + palavra_02\n",
    "\n",
    "print(palavra_03)"
   ]
  },
  {
   "cell_type": "code",
   "execution_count": 8,
   "id": "3404f89a",
   "metadata": {},
   "outputs": [
    {
     "data": {
      "text/plain": [
       "3"
      ]
     },
     "execution_count": 8,
     "metadata": {},
     "output_type": "execute_result"
    }
   ],
   "source": [
    "# Exercício 4 - Crie uma tupla com os seguintes elementos: 1, 2, 2, 3, 4, 4, 4, 5 e depois utilize a função count do \n",
    "# objeto tupla para verificar quantas vezes o número 4 aparece na tupla\n",
    "\n",
    "\n",
    "lista_num = (1, 2, 2, 3, 4, 4, 4, 5)\n",
    "lista_num.count(4)"
   ]
  },
  {
   "cell_type": "code",
   "execution_count": 74,
   "id": "113a6aa7",
   "metadata": {},
   "outputs": [
    {
     "name": "stdout",
     "output_type": "stream",
     "text": [
      "{}\n"
     ]
    }
   ],
   "source": [
    "# Exercício 5 - Crie um dicionário vazio e imprima na tela\n",
    "\n",
    "dicio = {}\n",
    "print(dicio)"
   ]
  },
  {
   "cell_type": "code",
   "execution_count": 44,
   "id": "2899f0ed",
   "metadata": {},
   "outputs": [
    {
     "name": "stdout",
     "output_type": "stream",
     "text": [
      "{'cama': 1, 'comoda': 1, 'cor cortina': 'preto'}\n"
     ]
    }
   ],
   "source": [
    "# Exercício 6 - Crie um dicionário com 3 chaves e 3 valores e imprima na tela\n",
    "\n",
    "quarto = {\n",
    "    'cama': 1,\n",
    "    'comoda': 1,\n",
    "    'cor cortina': 'preto'\n",
    "}\n",
    "\n",
    "print(quarto)"
   ]
  },
  {
   "cell_type": "code",
   "execution_count": 45,
   "id": "173685a1",
   "metadata": {},
   "outputs": [
    {
     "data": {
      "text/plain": [
       "{'cama': 1, 'comoda': 1, 'cor cortina': 'preto', 'mesa': 1}"
      ]
     },
     "execution_count": 45,
     "metadata": {},
     "output_type": "execute_result"
    }
   ],
   "source": [
    "# Exercício 7 - Adicione mais um elemento ao dicionário criado no exercício anterior e imprima na tela\n",
    "\n",
    "quarto['mesa'] = 1\n",
    "quarto"
   ]
  },
  {
   "cell_type": "code",
   "execution_count": 56,
   "id": "0497fdbb",
   "metadata": {},
   "outputs": [
    {
     "data": {
      "text/plain": [
       "{'BMW': 'x5', 'Preco': 200000, 'Ano': [2022, 2023]}"
      ]
     },
     "execution_count": 56,
     "metadata": {},
     "output_type": "execute_result"
    }
   ],
   "source": [
    "# Exercício 8 - Crie um dicionário com 3 chaves e 3 valores. Um dos valores deve ser uma lista de 2 elementos numéricos. \n",
    "# Imprima o dicionário na tela.\n",
    "\n",
    "carros = {\n",
    "    'BMW': 'x5',\n",
    "    'Preco': 200000,\n",
    "    'Ano': [2022, 2023]\n",
    "}\n",
    "\n",
    "carros\n"
   ]
  },
  {
   "cell_type": "code",
   "execution_count": 69,
   "id": "db985ac5",
   "metadata": {},
   "outputs": [
    {
     "data": {
      "text/plain": [
       "['PC INTEL',\n",
       " ('GPU 01 : RTX 3090', 'GPU 02: RTX 3070'),\n",
       " {'fonte GPU 01': 750, 'fonte GPU 02': 500},\n",
       " 10000.35]"
      ]
     },
     "execution_count": 69,
     "metadata": {},
     "output_type": "execute_result"
    }
   ],
   "source": [
    "# Exercício 9 - Crie uma lista de 4 elementos. O primeiro elemento deve ser uma string, \n",
    "# o segundo uma tupla de 2 elementos, o terceiro um dcionário com 2 chaves e 2 valores e \n",
    "# o quarto elemento um valor do tipo float.\n",
    "# Imprima a lista na tela.\n",
    "\n",
    "\n",
    "pc = [\n",
    "    'PC INTEL',\n",
    "    ('GPU 01 : RTX 3090', 'GPU 02: RTX 3070'),\n",
    "    {\n",
    "        'fonte GPU 01': 750,\n",
    "        'fonte GPU 02': 500\n",
    "    },\n",
    "    float(10000.35)\n",
    "\n",
    "]\n",
    "\n",
    "pc"
   ]
  },
  {
   "cell_type": "code",
   "execution_count": 79,
   "id": "071e979e",
   "metadata": {},
   "outputs": [
    {
     "data": {
      "text/plain": [
       "'Cientista de Dados'"
      ]
     },
     "execution_count": 79,
     "metadata": {},
     "output_type": "execute_result"
    }
   ],
   "source": [
    "# Exercício 10 - Considere a string abaixo. Imprima na tela apenas os caracteres da posição 1 a 18.\n",
    "frase = 'Cientista de Dados é o profissional mais sexy do século XXI'\n",
    "\n",
    "frase[:18]"
   ]
  },
  {
   "cell_type": "code",
   "execution_count": null,
   "id": "7f9e0fc9",
   "metadata": {},
   "outputs": [],
   "source": []
  },
  {
   "cell_type": "code",
   "execution_count": null,
   "id": "0cdb26cd",
   "metadata": {},
   "outputs": [],
   "source": []
  },
  {
   "cell_type": "code",
   "execution_count": null,
   "id": "524c2c5b",
   "metadata": {},
   "outputs": [],
   "source": []
  }
 ],
 "metadata": {
  "kernelspec": {
   "display_name": "Python 3 (ipykernel)",
   "language": "python",
   "name": "python3"
  },
  "language_info": {
   "codemirror_mode": {
    "name": "ipython",
    "version": 3
   },
   "file_extension": ".py",
   "mimetype": "text/x-python",
   "name": "python",
   "nbconvert_exporter": "python",
   "pygments_lexer": "ipython3",
   "version": "3.9.12"
  }
 },
 "nbformat": 4,
 "nbformat_minor": 5
}
