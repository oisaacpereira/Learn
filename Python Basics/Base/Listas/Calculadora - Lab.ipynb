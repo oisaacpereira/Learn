{
 "cells": [
  {
   "cell_type": "markdown",
   "id": "ce4a6b6e",
   "metadata": {},
   "source": [
    "## Criar calculadora em python"
   ]
  },
  {
   "cell_type": "code",
   "execution_count": 1,
   "id": "f2a07d30",
   "metadata": {},
   "outputs": [
    {
     "name": "stdout",
     "output_type": "stream",
     "text": [
      "********** Calculadora Python **********\n"
     ]
    }
   ],
   "source": [
    "print('*' * 10, 'Calculadora Python', '*' * 10)"
   ]
  },
  {
   "cell_type": "code",
   "execution_count": 11,
   "id": "fac944e3",
   "metadata": {},
   "outputs": [],
   "source": [
    "def soma(n1, n2):\n",
    "    x = n1 + n2\n",
    "    return x\n",
    "\n",
    "def sub(n1, n2):\n",
    "    x = n1 - n2\n",
    "    return x\n",
    "\n",
    "def mult(n1, n2):\n",
    "    x = n1 * n2\n",
    "    return x\n",
    "\n",
    "def div(n1, n2):\n",
    "    x = n1 // n2\n",
    "    return x"
   ]
  },
  {
   "cell_type": "code",
   "execution_count": 2,
   "id": "b477d637",
   "metadata": {},
   "outputs": [
    {
     "name": "stdout",
     "output_type": "stream",
     "text": [
      "Selecione o numero da operacao desejado:\n",
      "\n",
      "1 - Soma\n",
      "2 - Subtracao\n",
      "3 - Multiplicacao\n",
      "4 - Divisao\n"
     ]
    }
   ],
   "source": [
    "print('Selecione o numero da operacao desejado:' '\\n')\n",
    "print('1 - Soma\\n2 - Subtracao\\n3 - Multiplicacao\\n4 - Divisao')"
   ]
  },
  {
   "cell_type": "code",
   "execution_count": 9,
   "id": "4b188266",
   "metadata": {},
   "outputs": [
    {
     "name": "stdout",
     "output_type": "stream",
     "text": [
      "\n",
      "Digite sua opcao (1/2/3/4): 3\n",
      "\n",
      "Digite o primeiro numero: 10\n",
      "\n",
      "Digite o segundo numero: 3\n"
     ]
    }
   ],
   "source": [
    "opcao = int(input('\\nDigite sua opcao (1/2/3/4): '))\n",
    "n1 = int(input('\\nDigite o primeiro numero: '))\n",
    "n2 = int(input('\\nDigite o segundo numero: '))"
   ]
  },
  {
   "cell_type": "code",
   "execution_count": 10,
   "id": "bbd94cf6",
   "metadata": {},
   "outputs": [
    {
     "name": "stdout",
     "output_type": "stream",
     "text": [
      "10 * 3 = 30\n"
     ]
    }
   ],
   "source": [
    "if opcao == 1:\n",
    "    print(f'{n1} + {n2} = {soma(n1, n2)}')\n",
    "    \n",
    "elif opcao == 2:\n",
    "    print(f'{n1} - {n2} = {sub(n1, n2)}')\n",
    "    \n",
    "elif opcao == 3:\n",
    "    print(f'{n1} * {n2} = {mult(n1, n2)}')\n",
    "    \n",
    "elif opcao == 4:\n",
    "    print(f'{n1} / {n2} = {div(n1, n2)}')"
   ]
  },
  {
   "cell_type": "code",
   "execution_count": null,
   "id": "c1edc403",
   "metadata": {},
   "outputs": [],
   "source": []
  }
 ],
 "metadata": {
  "kernelspec": {
   "display_name": "Python 3 (ipykernel)",
   "language": "python",
   "name": "python3"
  },
  "language_info": {
   "codemirror_mode": {
    "name": "ipython",
    "version": 3
   },
   "file_extension": ".py",
   "mimetype": "text/x-python",
   "name": "python",
   "nbconvert_exporter": "python",
   "pygments_lexer": "ipython3",
   "version": "3.9.12"
  }
 },
 "nbformat": 4,
 "nbformat_minor": 5
}
