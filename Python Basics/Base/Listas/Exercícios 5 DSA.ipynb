{
 "cells": [
  {
   "cell_type": "code",
   "execution_count": null,
   "id": "cff3601f",
   "metadata": {},
   "outputs": [],
   "source": [
    "# Exercício 1 - Crie um objeto a partir da classe abaixo, chamado roc1, passando 2 parâmetros e depois faça uma chamada\n",
    "# aos atributos e métodos\n",
    "from math import sqrt\n",
    "\n",
    "class Rocket():\n",
    "     \n",
    "    def __init__(self, x=0, y=0):\n",
    "        self.x = x\n",
    "        self.y = y\n",
    "        \n",
    "    def move_rocket(self, x_increment=0, y_increment=1):\n",
    "        self.x += x_increment\n",
    "        self.y += y_increment\n",
    "        \n",
    "    def print_rocket(self):\n",
    "        print(self.x, self.y)"
   ]
  },
  {
   "cell_type": "code",
   "execution_count": null,
   "id": "9e87e624",
   "metadata": {},
   "outputs": [],
   "source": [
    "roc1 = Rocket(10, 20)"
   ]
  },
  {
   "cell_type": "code",
   "execution_count": null,
   "id": "88725b97",
   "metadata": {},
   "outputs": [],
   "source": [
    "roc1.move_rocket()"
   ]
  },
  {
   "cell_type": "code",
   "execution_count": null,
   "id": "caa72689",
   "metadata": {},
   "outputs": [],
   "source": [
    "roc1.print_rocket()"
   ]
  },
  {
   "cell_type": "code",
   "execution_count": null,
   "id": "39318b62",
   "metadata": {},
   "outputs": [],
   "source": [
    "# Exercício 2 - Crie uma classe chamada Pessoa() com os atributos: nome, cidade, telefone e e-mail. Use pelo menos 2\n",
    "# métodos especiais na sua classe. Crie um objeto da sua classe e faça uma chamada a pelo menos um dos seus métodos\n",
    "# especiais.\n",
    "\n",
    "\n",
    "class Pessoa():\n",
    "    \n",
    "    def __init__(self, nome, cidade, telefone, email):\n",
    "        self.nome = nome\n",
    "        self.cidade = cidade\n",
    "        self.telefone = telefone\n",
    "        self.email = email\n",
    "        \n",
    "    def Dados(self):\n",
    "        dados = {\n",
    "            'Nome': self.nome,\n",
    "            'Cidade': self.cidade,\n",
    "            'Telefone': self.telefone,\n",
    "            'Email': self.email\n",
    "        }\n",
    "        return dados\n",
    "    \n",
    "    def info(self):\n",
    "        info = int(input('Qual dado voce quer ver? 1-Nome 2-Cidade 3-Telefone 4-Email 5-Todos'))\n",
    "        if info == 1:\n",
    "            return self.nome\n",
    "        elif info == 2:\n",
    "            return self.cidade\n",
    "        elif info == 3:\n",
    "            return self.telefone\n",
    "        elif info == 4:\n",
    "            return self.email\n",
    "        elif info == 5:\n",
    "            return self.nome, self.cidade, self.telefone, self.email\n",
    "        \n",
    "    def __str__(self):\n",
    "        return f'O {self.nome} mora em {self.cidade}'"
   ]
  },
  {
   "cell_type": "code",
   "execution_count": null,
   "id": "1dc32a6f",
   "metadata": {
    "scrolled": false
   },
   "outputs": [],
   "source": [
    "str(pessoa)"
   ]
  },
  {
   "cell_type": "code",
   "execution_count": null,
   "id": "ca43533b",
   "metadata": {},
   "outputs": [],
   "source": [
    "pessoa = Pessoa('Peter', 'Londres', '19 9 9999 9999', 'peter@gmail.com')"
   ]
  },
  {
   "cell_type": "code",
   "execution_count": null,
   "id": "1aa384b4",
   "metadata": {},
   "outputs": [],
   "source": [
    "pessoa.info()"
   ]
  },
  {
   "cell_type": "code",
   "execution_count": null,
   "id": "69443fe0",
   "metadata": {},
   "outputs": [],
   "source": [
    "pessoa.Dados()"
   ]
  },
  {
   "cell_type": "raw",
   "id": "767a0000",
   "metadata": {},
   "source": []
  },
  {
   "cell_type": "code",
   "execution_count": 93,
   "id": "384bd2df",
   "metadata": {},
   "outputs": [],
   "source": [
    "# Exercício 3 - Crie a classe Smartphone com 2 atributos, tamanho e interface e crie a classe MP3Player com os \n",
    "# atributos capacidade. A classe MP3player deve herdar os atributos da classe Smartphone.\n",
    "\n",
    "class Smartphone(object):\n",
    "    def __init__(self, tamanho, interface):\n",
    "        self.tamanho = tamanho\n",
    "        self.interface = interface\n",
    "        \n",
    "\n",
    "class MP3Player(Smartphone):\n",
    "    def __init__(self, capacidade, tamanho='5', interface= 'Qled'):\n",
    "        self.capacidade = capacidade\n",
    "        Smartphone.__init__(self, tamanho, interface)\n",
    "        \n",
    "    def memoria(self):\n",
    "        print(\"Valores para o objeto criado: %s %s %s\"  %(self.tamanho, self.interface, self.capacidade))\n",
    "    "
   ]
  },
  {
   "cell_type": "code",
   "execution_count": 97,
   "id": "e0e0ba6a",
   "metadata": {},
   "outputs": [
    {
     "name": "stdout",
     "output_type": "stream",
     "text": [
      "Valores para o objeto criado: 5 Qled 64 GB\n"
     ]
    }
   ],
   "source": [
    "device = MP3Player('64 GB')\n",
    "device.memoria()\n"
   ]
  },
  {
   "cell_type": "raw",
   "id": "f3cd7be1",
   "metadata": {},
   "source": []
  },
  {
   "cell_type": "raw",
   "id": "2f78b68e",
   "metadata": {},
   "source": []
  },
  {
   "cell_type": "raw",
   "id": "7e9b7427",
   "metadata": {},
   "source": []
  },
  {
   "cell_type": "raw",
   "id": "5efab331",
   "metadata": {},
   "source": []
  },
  {
   "cell_type": "raw",
   "id": "ef5d5b18",
   "metadata": {},
   "source": []
  },
  {
   "cell_type": "code",
   "execution_count": null,
   "id": "e68b6063",
   "metadata": {},
   "outputs": [],
   "source": []
  },
  {
   "cell_type": "code",
   "execution_count": null,
   "id": "24c5cf4a",
   "metadata": {},
   "outputs": [],
   "source": []
  }
 ],
 "metadata": {
  "kernelspec": {
   "display_name": "Python 3 (ipykernel)",
   "language": "python",
   "name": "python3"
  },
  "language_info": {
   "codemirror_mode": {
    "name": "ipython",
    "version": 3
   },
   "file_extension": ".py",
   "mimetype": "text/x-python",
   "name": "python",
   "nbconvert_exporter": "python",
   "pygments_lexer": "ipython3",
   "version": "3.9.12"
  }
 },
 "nbformat": 4,
 "nbformat_minor": 5
}
