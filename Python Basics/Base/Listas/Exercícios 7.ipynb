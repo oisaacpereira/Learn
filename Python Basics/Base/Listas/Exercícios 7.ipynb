{
 "cells": [
  {
   "cell_type": "code",
   "execution_count": 16,
   "id": "badd9f7d",
   "metadata": {},
   "outputs": [
    {
     "name": "stdout",
     "output_type": "stream",
     "text": [
      "[1, 2, 3, 4, 5, 6, 7, 8, 9, 10]\n",
      "[1, 2, 3, 4, 5, 6, 7, 8, 9, 10]\n"
     ]
    }
   ],
   "source": [
    "# Exercício 1 - Imprima na tela os números de 1 a 10. Use uma lista para armazenar os númeroas.\n",
    "\n",
    "numeros = range(1,11)\n",
    "lista = []\n",
    "for i in numeros:\n",
    "    lista.append(i)\n",
    "print(lista)\n",
    "\n",
    "#ou\n",
    "\n",
    "lista = [1, 2, 3, 4, 5, 6, 7, 8, 9, 10]\n",
    "print(lista)"
   ]
  },
  {
   "cell_type": "code",
   "execution_count": 18,
   "id": "1a5395f0",
   "metadata": {},
   "outputs": [
    {
     "name": "stdout",
     "output_type": "stream",
     "text": [
      "['BMW', 'Mercedes', 'Lamborghini', 'Audi', 'Ferrari']\n"
     ]
    }
   ],
   "source": [
    "# Exercício 2 - Crie uma lista de 5 objetos e imprima na tela\n",
    "\n",
    "carros = ['BMW', 'Mercedes', 'Lamborghini', 'Audi', 'Ferrari']\n",
    "print(carros)"
   ]
  },
  {
   "cell_type": "code",
   "execution_count": 21,
   "id": "3d158452",
   "metadata": {},
   "outputs": [
    {
     "name": "stdout",
     "output_type": "stream",
     "text": [
      "Isaac Pereira\n"
     ]
    }
   ],
   "source": [
    "# Exercício 3 - Crie duas strings e concatene as duas em uma terceira string\n",
    "\n",
    "name = 'Isaac '\n",
    "last_name = 'Pereira'\n",
    "full_name = name + last_name\n",
    "print(full_name)"
   ]
  },
  {
   "cell_type": "code",
   "execution_count": 22,
   "id": "7977df1e",
   "metadata": {},
   "outputs": [
    {
     "data": {
      "text/plain": [
       "3"
      ]
     },
     "execution_count": 22,
     "metadata": {},
     "output_type": "execute_result"
    }
   ],
   "source": [
    "# Exercício 4 - Crie uma tupla com os seguintes elementos: 1, 2, 2, 3, 4, 4, 4, 5 e depois utilize a função count do \n",
    "# objeto tupla para verificar quantas vezes o número 4 aparece na tupla\n",
    "\n",
    "tupla = (1, 2, 2, 3, 4, 4, 4, 5)\n",
    "tupla.count(4)"
   ]
  },
  {
   "cell_type": "code",
   "execution_count": 24,
   "id": "e2b76389",
   "metadata": {},
   "outputs": [
    {
     "data": {
      "text/plain": [
       "{}"
      ]
     },
     "execution_count": 24,
     "metadata": {},
     "output_type": "execute_result"
    }
   ],
   "source": [
    "# Exercício 5 - Crie um dicionário vazio e imprima na tela\n",
    "\n",
    "dicio = {}\n",
    "dicio"
   ]
  },
  {
   "cell_type": "code",
   "execution_count": 25,
   "id": "c221a4c8",
   "metadata": {},
   "outputs": [
    {
     "data": {
      "text/plain": [
       "{'Bottle': 1, 'Keyboard': 1, 'Screen': 2}"
      ]
     },
     "execution_count": 25,
     "metadata": {},
     "output_type": "execute_result"
    }
   ],
   "source": [
    "# Exercício 6 - Crie um dicionário com 3 chaves e 3 valores e imprima na tela\n",
    "\n",
    "office = {'Bottle': 1, 'Keyboard': 1, 'Screen': 2}\n",
    "office"
   ]
  },
  {
   "cell_type": "code",
   "execution_count": 29,
   "id": "be893620",
   "metadata": {},
   "outputs": [
    {
     "data": {
      "text/plain": [
       "{'Bottle': 1, 'Keyboard': 1, 'Screen': 2, 'Pen': 4}"
      ]
     },
     "execution_count": 29,
     "metadata": {},
     "output_type": "execute_result"
    }
   ],
   "source": [
    "# Exercício 7 - Adicione mais um elemento ao dicionário criado no exercício anterior e imprima na tela\n",
    "office['Pen'] = 4\n",
    "office"
   ]
  },
  {
   "cell_type": "code",
   "execution_count": 31,
   "id": "53dd3963",
   "metadata": {},
   "outputs": [
    {
     "data": {
      "text/plain": [
       "{'CPU': 'Intel', 'GPU': ['Radeon', 'Nvidia'], 'Power Supply': '750 W'}"
      ]
     },
     "execution_count": 31,
     "metadata": {},
     "output_type": "execute_result"
    }
   ],
   "source": [
    "# Exercício 8 - Crie um dicionário com 3 chaves e 3 valores. \n",
    "# Um dos valores deve ser uma lista de 2 elementos numéricos. \n",
    "# Imprima o dicionário na tela.\n",
    "\n",
    "pc_specs = {'CPU': 'Intel', 'GPU': ['Radeon', 'Nvidia'], 'Power Supply': '750 W'}\n",
    "pc_specs"
   ]
  },
  {
   "cell_type": "code",
   "execution_count": 33,
   "id": "874ebd91",
   "metadata": {},
   "outputs": [
    {
     "data": {
      "text/plain": [
       "['Alice', ('Blonde', 'Green Eyes'), {'City': 'Cacapava', 'Age': 20}, 2023]"
      ]
     },
     "execution_count": 33,
     "metadata": {},
     "output_type": "execute_result"
    }
   ],
   "source": [
    "# Exercício 9 - Crie uma lista de 4 elementos. O primeiro elemento deve ser uma string, \n",
    "# o segundo uma tupla de 2 elementos, o terceiro um dcionário com 2 chaves e 2 valores e \n",
    "# o quarto elemento um valor do tipo float.\n",
    "# Imprima a lista.\n",
    "\n",
    "dados = ['Alice', ('Blonde', 'Green Eyes'), {'City': 'Cacapava', 'Age': 20}, 2023]\n",
    "dados"
   ]
  },
  {
   "cell_type": "code",
   "execution_count": 39,
   "id": "85643eef",
   "metadata": {},
   "outputs": [
    {
     "data": {
      "text/plain": [
       "'Cientista de Dados'"
      ]
     },
     "execution_count": 39,
     "metadata": {},
     "output_type": "execute_result"
    }
   ],
   "source": [
    "# Exercício 10 - Considere a string abaixo. Imprima na tela apenas os caracteres da posição 1 a 18.\n",
    "frase = 'Cientista de Dados é o profissional mais sexy do século XXI'\n",
    "\n",
    "frase[0:18]"
   ]
  },
  {
   "cell_type": "code",
   "execution_count": null,
   "id": "a597a545",
   "metadata": {},
   "outputs": [],
   "source": []
  },
  {
   "cell_type": "code",
   "execution_count": null,
   "id": "b43bb066",
   "metadata": {},
   "outputs": [],
   "source": []
  }
 ],
 "metadata": {
  "kernelspec": {
   "display_name": "Python 3 (ipykernel)",
   "language": "python",
   "name": "python3"
  },
  "language_info": {
   "codemirror_mode": {
    "name": "ipython",
    "version": 3
   },
   "file_extension": ".py",
   "mimetype": "text/x-python",
   "name": "python",
   "nbconvert_exporter": "python",
   "pygments_lexer": "ipython3",
   "version": "3.9.12"
  }
 },
 "nbformat": 4,
 "nbformat_minor": 5
}
