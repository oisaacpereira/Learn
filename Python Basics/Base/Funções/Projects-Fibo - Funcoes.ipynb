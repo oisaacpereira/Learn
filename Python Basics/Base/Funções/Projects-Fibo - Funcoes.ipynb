{
 "cells": [
  {
   "cell_type": "markdown",
   "id": "a87a4483",
   "metadata": {},
   "source": [
    "# fibo_v1 "
   ]
  },
  {
   "cell_type": "code",
   "execution_count": null,
   "id": "efe77df1",
   "metadata": {},
   "outputs": [],
   "source": [
    "#usando while infinito\n",
    "\n",
    "def fibonacci():\n",
    "    penultimo = 0\n",
    "    ultimo = 1\n",
    "    print(f'{penultimo},{ultimo}')\n",
    "    while True:\n",
    "        proximo = penultimo + ultimo\n",
    "        print(proximo)\n",
    "        penultimo = ultimo\n",
    "        ultimo = proximo\n",
    "\n",
    "fibonacci()"
   ]
  },
  {
   "cell_type": "markdown",
   "id": "1331acad",
   "metadata": {},
   "source": [
    "# fibo_v2 "
   ]
  },
  {
   "cell_type": "code",
   "execution_count": null,
   "id": "540672da",
   "metadata": {},
   "outputs": [],
   "source": [
    "#limite para o while\n",
    "\n",
    "def fibonacci(limite):\n",
    "    penultimo = 0\n",
    "    ultimo = 1\n",
    "    print(f'{penultimo},{ultimo}', end=',') #end=',' nao deixa escrever o proximo na outra linha \n",
    "    while ultimo < limite:\n",
    "        proximo = penultimo + ultimo\n",
    "        print(proximo, end=',')\n",
    "        penultimo = ultimo\n",
    "        ultimo = proximo\n",
    "\n",
    "fibonacci(100000)"
   ]
  },
  {
   "cell_type": "markdown",
   "id": "bce6e502",
   "metadata": {},
   "source": [
    "# fibo_v3"
   ]
  },
  {
   "cell_type": "code",
   "execution_count": 9,
   "id": "55fc8de0",
   "metadata": {},
   "outputs": [
    {
     "name": "stdout",
     "output_type": "stream",
     "text": [
      "0,1,1,2,3,5,8,13,21,34,55,89,144,233,377,610,987,1597,2584,4181,6765,10946,17711,28657,46368,75025,121393,"
     ]
    }
   ],
   "source": [
    "#packing para troca de variaveis\n",
    "\n",
    "def fibonacci(limite):\n",
    "    penultimo = 0\n",
    "    ultimo = 1\n",
    "    print(f'{penultimo},{ultimo}', end=',') \n",
    "    while ultimo < limite:\n",
    "        penultimo, ultimo = ultimo, ultimo + penultimo\n",
    "        print(ultimo, end=',')\n",
    "\n",
    "\n",
    "fibonacci(100000)"
   ]
  },
  {
   "cell_type": "code",
   "execution_count": null,
   "id": "53572174",
   "metadata": {},
   "outputs": [],
   "source": []
  },
  {
   "cell_type": "markdown",
   "id": "5346d2bc",
   "metadata": {},
   "source": [
    "# fibo_v4"
   ]
  },
  {
   "cell_type": "code",
   "execution_count": 17,
   "id": "e65685e5",
   "metadata": {},
   "outputs": [
    {
     "name": "stdout",
     "output_type": "stream",
     "text": [
      "0,1,1,2,3,5,8,13,21,34,55,89,144,233,377,610,987,"
     ]
    },
    {
     "data": {
      "text/plain": [
       "[0, 1, 1, 2, 3, 5, 8, 13, 21, 34, 55, 89, 144, 233, 377, 610, 987]"
      ]
     },
     "execution_count": 17,
     "metadata": {},
     "output_type": "execute_result"
    }
   ],
   "source": [
    "#substituindo variaveis por lista \n",
    "\n",
    "def fibonacci(limite):\n",
    "    resultado = [0, 1]\n",
    "    while resultado[-1] < limite:\n",
    "        resultado.append(resultado[-2] + resultado[-1])\n",
    "    return resultado\n",
    "\n",
    "for fib in fibonacci(987):\n",
    "    print(fib, end=',')\n",
    "\n",
    "fibonacci(987)"
   ]
  },
  {
   "cell_type": "code",
   "execution_count": null,
   "id": "c7307af3",
   "metadata": {},
   "outputs": [],
   "source": []
  },
  {
   "cell_type": "markdown",
   "id": "228741d7",
   "metadata": {},
   "source": [
    "# fibo_v5"
   ]
  },
  {
   "cell_type": "code",
   "execution_count": 18,
   "id": "6a0ac2dd",
   "metadata": {},
   "outputs": [
    {
     "name": "stdout",
     "output_type": "stream",
     "text": [
      "0,1,1,2,3,5,8,13,21,34,55,89,144,233,377,610,987,1597,2584,4181,6765,10946,17711,28657,46368,75025,121393,"
     ]
    }
   ],
   "source": [
    "#desafio sum\n",
    "\n",
    "def fibonacci(limite):\n",
    "    resultado = [0, 1]\n",
    "    while resultado[-1] < limite:\n",
    "        resultado.append(sum(resultado[-2:]))\n",
    "    return resultado\n",
    "\n",
    "for fib in fibonacci(100000):\n",
    "    print(fib, end=',')"
   ]
  },
  {
   "cell_type": "code",
   "execution_count": null,
   "id": "35aff29a",
   "metadata": {},
   "outputs": [],
   "source": []
  },
  {
   "cell_type": "markdown",
   "id": "55237d90",
   "metadata": {},
   "source": [
    "# fibo_v6"
   ]
  },
  {
   "cell_type": "code",
   "execution_count": 20,
   "id": "9881e951",
   "metadata": {},
   "outputs": [
    {
     "name": "stdout",
     "output_type": "stream",
     "text": [
      "0,1,1,2,3,5,8,13,21,34,"
     ]
    }
   ],
   "source": [
    "#while com break\n",
    "\n",
    "def fibonacci(quantidade):\n",
    "    resultado = [0, 1]\n",
    "    while True:\n",
    "        resultado.append(sum(resultado[-2:]))\n",
    "        if len(resultado) == quantidade:\n",
    "            break\n",
    "    return resultado\n",
    "\n",
    "for fib in fibonacci(10):\n",
    "    print(fib, end=',')"
   ]
  },
  {
   "cell_type": "code",
   "execution_count": null,
   "id": "d5ea64c1",
   "metadata": {},
   "outputs": [],
   "source": []
  },
  {
   "cell_type": "markdown",
   "id": "00b6cada",
   "metadata": {},
   "source": [
    "# fibo_v7"
   ]
  },
  {
   "cell_type": "code",
   "execution_count": 38,
   "id": "6b24450f",
   "metadata": {},
   "outputs": [
    {
     "name": "stdout",
     "output_type": "stream",
     "text": [
      "0,1,1,2,3,5,8,13,21,34,55,89,144,233,377,610,987,1597,2584,4181,0,1,1,2,3,5,8,13,21,34,55,89,144,233,377,610,987,1597,2584,4181,"
     ]
    }
   ],
   "source": [
    "#substituindo while por for\n",
    "\n",
    "def fibonacci(quantidade):\n",
    "    resultado = [0, 1]\n",
    "    for x in range(quantidade):\n",
    "        resultado.append(sum(resultado[-2:]))\n",
    "        if len(resultado) == quantidade:\n",
    "            break\n",
    "    return resultado\n",
    "\n",
    "for fib in fibonacci(20):\n",
    "    print(fib, end=',')\n",
    "    \n",
    "#forma 2    \n",
    "def fibonacci(quantidade):\n",
    "    resultado = [0, 1]\n",
    "    for x in range(2, quantidade):\n",
    "        resultado.append(sum(resultado[-2:]))\n",
    "    return resultado\n",
    "\n",
    "for fib in fibonacci(20):\n",
    "    print(fib, end=',')"
   ]
  },
  {
   "cell_type": "markdown",
   "id": "8c24d472",
   "metadata": {},
   "source": [
    "# fibo_v8"
   ]
  },
  {
   "cell_type": "code",
   "execution_count": 5,
   "id": "6000681f",
   "metadata": {},
   "outputs": [
    {
     "name": "stdout",
     "output_type": "stream",
     "text": [
      "0\n",
      "1\n",
      "1\n",
      "2\n",
      "3\n",
      "5\n",
      "8\n",
      "13\n",
      "21\n",
      "34\n",
      "55\n",
      "89\n",
      "144\n",
      "233\n",
      "377\n",
      "610\n",
      "987\n",
      "1597\n",
      "2584\n",
      "4181\n"
     ]
    }
   ],
   "source": [
    "#recursivo\n",
    "\n",
    "def fibonacci(quantidade, sequencia=(0, 1)):\n",
    "    #importante: condição de parada\n",
    "    if len(sequencia) == quantidade:\n",
    "        return sequencia\n",
    "    return fibonacci(quantidade, sequencia + (sum(sequencia[-2:]),))\n",
    "\n",
    "if __name__ == '__main__':\n",
    "    #listar os 20 primeiros \n",
    "    for fib in fibonacci(20, (0, 1)):\n",
    "        print(fib)"
   ]
  },
  {
   "cell_type": "code",
   "execution_count": 7,
   "id": "5067445f",
   "metadata": {},
   "outputs": [],
   "source": [
    "def fibonacci(quantidade):\n",
    "    resultado = [0, 1]\n",
    "    if len(resultado) == quantidade:\n",
    "        return\n",
    "    else:\n",
    "        resultado.append(sum(resultado[-2:]))\n",
    "    return resultado.append(sum(resultado[-2:]))\n",
    "    \n",
    "fibonacci(10)"
   ]
  }
 ],
 "metadata": {
  "kernelspec": {
   "display_name": "Python 3 (ipykernel)",
   "language": "python",
   "name": "python3"
  },
  "language_info": {
   "codemirror_mode": {
    "name": "ipython",
    "version": 3
   },
   "file_extension": ".py",
   "mimetype": "text/x-python",
   "name": "python",
   "nbconvert_exporter": "python",
   "pygments_lexer": "ipython3",
   "version": "3.9.12"
  }
 },
 "nbformat": 4,
 "nbformat_minor": 5
}
