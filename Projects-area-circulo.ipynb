{
 "cells": [
  {
   "cell_type": "markdown",
   "id": "7e71c7b6",
   "metadata": {},
   "source": [
    "## Area circulo v1"
   ]
  },
  {
   "cell_type": "code",
   "execution_count": null,
   "id": "5a85f1ca",
   "metadata": {
    "pycharm": {
     "is_executing": true
    }
   },
   "outputs": [],
   "source": [
    "#calculo de uma circunferencia formula da area a = pi*raio**2\n",
    "\n",
    "pi = 3.14159\n",
    "raio = 15\n",
    "\n",
    "print(f'Area do circulo de raio {raio} {pi * raio ** 2}')"
   ]
  },
  {
   "cell_type": "markdown",
   "id": "3c463c5a",
   "metadata": {},
   "source": [
    "## Area circulo v2"
   ]
  },
  {
   "cell_type": "code",
   "execution_count": null,
   "id": "b50dfeb1",
   "metadata": {},
   "outputs": [],
   "source": [
    "#-*- UTFF-8 -*-\n",
    "\n",
    "pi = 3.14159\n",
    "raio = 15\n",
    "\n",
    "print(f'Area do circulo de raio {raio} {pi * raio ** 2}')"
   ]
  },
  {
   "cell_type": "markdown",
   "id": "3b686aae",
   "metadata": {},
   "source": [
    "## Area circulo v3\n"
   ]
  },
  {
   "cell_type": "code",
   "execution_count": null,
   "id": "34abd660",
   "metadata": {},
   "outputs": [],
   "source": [
    "#!/usr/local/bin/python3\n",
    "\n",
    "pi = 3.14159\n",
    "raio = 15\n",
    "\n",
    "print(f'Area do circulo de raio {raio} {pi * raio ** 2}')"
   ]
  },
  {
   "cell_type": "markdown",
   "id": "edf31237",
   "metadata": {},
   "source": [
    "## Area circulo v4"
   ]
  },
  {
   "cell_type": "code",
   "execution_count": null,
   "id": "f10d83e6",
   "metadata": {},
   "outputs": [],
   "source": [
    "#!/usr/local/bin/python3\n",
    "from math import pi\n",
    "\n",
    "#print('pi = ', math.pi)\n",
    "#print(dir())\n",
    "\n",
    "raio = 15\n",
    "\n",
    "print(f'Area do circulo de raio {raio} {pi * raio ** 2}')"
   ]
  },
  {
   "cell_type": "markdown",
   "id": "2dc86df2",
   "metadata": {},
   "source": [
    "## Area circulo v5"
   ]
  },
  {
   "cell_type": "code",
   "execution_count": null,
   "id": "d083669e",
   "metadata": {},
   "outputs": [],
   "source": [
    "#!/usr/local/bin/python3\n",
    "from math import pi\n",
    "\n",
    "raio = input('Informe o raio: ')\n",
    "\n",
    "print(f'Area do circulo de raio {raio} =' , pi * float(raio) ** 2)"
   ]
  },
  {
   "cell_type": "markdown",
   "id": "a37ed212",
   "metadata": {},
   "source": [
    "# Area circulo v6\n"
   ]
  },
  {
   "cell_type": "code",
   "execution_count": null,
   "id": "af2a3252",
   "metadata": {},
   "outputs": [],
   "source": [
    "#!/usr/local/bin/python3\n",
    "from math import pi\n",
    "\n",
    "raio = input('Informe o raio: ')\n",
    "\n",
    "print(f'Area do circulo de raio {raio} =' , pi * float(raio) ** 2)\n",
    "\n",
    "print('nome do modulo', __name__)"
   ]
  },
  {
   "cell_type": "markdown",
   "id": "ea880397",
   "metadata": {},
   "source": [
    "## Area circulo v7\n"
   ]
  },
  {
   "cell_type": "code",
   "execution_count": null,
   "id": "1c50ca9f",
   "metadata": {},
   "outputs": [],
   "source": [
    "#!/usr/local/bin/python3\n",
    "from math import pi\n",
    "\n",
    "\n",
    "if __name__ == '__main__':\n",
    "    raio = input('Informe o raio: ')\n",
    "    print(f'Area do circulo de raio {raio} =' , pi * float(raio) ** 2)\n",
    "\n",
    "\n"
   ]
  },
  {
   "cell_type": "markdown",
   "id": "4d3a9e98",
   "metadata": {},
   "source": [
    "# Area circulo v8"
   ]
  },
  {
   "cell_type": "code",
   "execution_count": null,
   "id": "329ef5c2",
   "metadata": {},
   "outputs": [],
   "source": [
    "#!/usr/local/bin/python3\n",
    "from math import pi\n",
    "\n",
    "\n",
    "def circulo(raio):\n",
    "    print('area do circulo', pi ** float(raio) ** 2)\n",
    "    \n",
    "    \n",
    "if __name__ == '__main__':\n",
    "    raio = input('informe o raio: ')\n",
    "    circulo(raio)\n",
    "    "
   ]
  },
  {
   "cell_type": "markdown",
   "id": "34fb73d6",
   "metadata": {},
   "source": [
    "# Area circulo v9"
   ]
  },
  {
   "cell_type": "code",
   "execution_count": null,
   "id": "f079b783",
   "metadata": {},
   "outputs": [],
   "source": [
    " #!/usr/local/bin/python3\n",
    "from math import pi\n",
    "\n",
    "\n",
    "def circulo(raio):\n",
    "    return pi ** float(raio) ** 2\n",
    "    \n",
    "    \n",
    "if __name__ == '__main__':\n",
    "    raio = input('informe o raio: ')\n",
    "    area = circulo(raio)\n",
    "    print('Area do circulo', area)\n",
    "    \n",
    "area * 2 \n",
    "    "
   ]
  },
  {
   "cell_type": "markdown",
   "id": "432a73f7",
   "metadata": {},
   "source": [
    "# Area circulo v10"
   ]
  },
  {
   "cell_type": "code",
   "execution_count": null,
   "id": "b9713d50",
   "metadata": {},
   "outputs": [],
   "source": [
    " #!/usr/local/bin/python3\n",
    "from math import pi\n",
    "import sys\n",
    "\n",
    "\n",
    "def circulo(raio):\n",
    "    return pi ** float(raio) ** 2\n",
    "    \n",
    "    \n",
    "if __name__ == '__main__':\n",
    "    if len(sys.argv) < 2:\n",
    "        print('Necessario informar o raio do circulo')\n",
    "        print('Sintaxe: area_circulo <raio>')\n",
    "    else:\n",
    "        raio = sys.argv[1]\n",
    "        area = circulo(raio)\n",
    "        print('Area do circulo', area)"
   ]
  },
  {
   "cell_type": "markdown",
   "id": "a2928926",
   "metadata": {},
   "source": [
    "# Area circulo v11"
   ]
  },
  {
   "cell_type": "code",
   "execution_count": null,
   "id": "b944bef3",
   "metadata": {},
   "outputs": [],
   "source": [
    " #!/usr/local/bin/python3\n",
    "from math import pi\n",
    "import sys\n",
    "\n",
    "\n",
    "def circulo(raio):\n",
    "    return pi ** float(raio) ** 2\n",
    "    \n",
    "    \n",
    "if __name__ == '__main__':\n",
    "    if len(sys.argv) < 2:\n",
    "        print('Necessario informar o raio do circulo')\n",
    "        print('Sintaxe: {} <raio>' .format(sys.argv[0][2:]))\n",
    "    else:\n",
    "        raio = sys.argv[1]\n",
    "        area = circulo(raio)\n",
    "        print('Area do circulo', area)"
   ]
  },
  {
   "cell_type": "markdown",
   "id": "64256285",
   "metadata": {},
   "source": [
    "# Area circulo v12"
   ]
  },
  {
   "cell_type": "code",
   "execution_count": null,
   "id": "7cc241ea",
   "metadata": {},
   "outputs": [],
   "source": [
    " #!/usr/local/bin/python3\n",
    "from math import pi\n",
    "import sys\n",
    "\n",
    "\n",
    "def help():\n",
    "        print('Necessario informar o raio do circulo')\n",
    "        print('Sintaxe: {} <raio>' .format(sys.argv[0][2:]))\n",
    "        \n",
    "        \n",
    "def circulo(raio):\n",
    "    return pi ** float(raio) ** 2\n",
    "\n",
    "\n",
    "if __name__ == '__main__':\n",
    "    if len(sys.argv) < 2:\n",
    "        help()\n",
    "    else:\n",
    "        raio = sys.argv[1]\n",
    "        area = circulo(raio)\n",
    "        print('Area do circulo', area)"
   ]
  },
  {
   "cell_type": "markdown",
   "id": "3c682159",
   "metadata": {},
   "source": [
    "# Area circulo v13"
   ]
  },
  {
   "cell_type": "code",
   "execution_count": null,
   "id": "1fd07d77",
   "metadata": {},
   "outputs": [],
   "source": [
    " #!/usr/local/bin/python3\n",
    "from math import pi\n",
    "import sys\n",
    "\n",
    "\n",
    "def help():\n",
    "        print('Necessario informar o raio do circulo')\n",
    "        print('Sintaxe: {} <raio>' .format(sys.argv[0][2:]))\n",
    "        \n",
    "        \n",
    "def circulo(raio):\n",
    "    return pi ** float(raio) ** 2\n",
    "\n",
    "\n",
    "if __name__ == '__main__':\n",
    "    if len(sys.argv) < 2:\n",
    "        help()\n",
    "        sys.exit(1)\n",
    "    #else:\n",
    "        raio = sys.argv[1]\n",
    "        area = circulo(raio)\n",
    "        print('Area do circulo', area)"
   ]
  },
  {
   "cell_type": "markdown",
   "id": "99c5887c",
   "metadata": {},
   "source": [
    "# Area circulo v14"
   ]
  },
  {
   "cell_type": "code",
   "execution_count": null,
   "id": "da8f7756",
   "metadata": {},
   "outputs": [],
   "source": [
    " #!/usr/local/bin/python3\n",
    "from math import pi\n",
    "import sys\n",
    "import errno\n",
    "\n",
    "\n",
    "def help():\n",
    "        print('Necessario informar o raio do circulo')\n",
    "        print('Sintaxe: {} <raio>' .format(sys.argv[0][2:]))\n",
    "        \n",
    "        \n",
    "def circulo(raio):\n",
    "    return pi ** float(raio) ** 2\n",
    "\n",
    "\n",
    "if __name__ == '__main__':\n",
    "    if len(sys.argv) < 2:\n",
    "        help()\n",
    "       sys.exit(errno.EPERM)\n",
    "    \n",
    "    if not sys.argv[1].isnumeric():\n",
    "        help()\n",
    "        print('o raio deve ser um valor numerico')\n",
    "        sys.exti(errno.EINVAL)\n",
    "        \n",
    "    raio = sys.argv[1]\n",
    "    area = circulo(raio)\n",
    "    print('Area do circulo', area)"
   ]
  },
  {
   "cell_type": "markdown",
   "id": "08341d97",
   "metadata": {},
   "source": [
    "# Area circulo v15"
   ]
  },
  {
   "cell_type": "code",
   "execution_count": null,
   "id": "a1dca385",
   "metadata": {},
   "outputs": [],
   "source": [
    " #!/usr/local/bin/python3\n",
    "from math import pi\n",
    "import sys\n",
    "import errno\n",
    "\n",
    "\n",
    "ERRO = '\\'\n",
    "\n",
    "def help():\n",
    "        print('Necessario informar o raio do circulo')\n",
    "        print('Sintaxe: {} <raio>' .format(sys.argv[0][2:]))\n",
    "        \n",
    "        \n",
    "def circulo(raio):\n",
    "    return pi ** float(raio) ** 2\n",
    "\n",
    "\n",
    "if __name__ == '__main__':\n",
    "    if len(sys.argv) < 2:\n",
    "        help()\n",
    "       sys.exit(errno.EPERM)\n",
    "    \n",
    "    if not sys.argv[1].isnumeric():\n",
    "        help()\n",
    "        print('o raio deve ser um valor numerico')\n",
    "        sys.exti(errno.EINVAL)\n",
    "        \n",
    "    raio = sys.argv[1]\n",
    "    area = circulo(raio)\n",
    "    print('Area do circulo', area)"
   ]
  },
  {
   "cell_type": "code",
   "execution_count": null,
   "id": "5d3c9e4d",
   "metadata": {},
   "outputs": [],
   "source": []
  },
  {
   "cell_type": "code",
   "execution_count": null,
   "id": "8c538df0",
   "metadata": {},
   "outputs": [],
   "source": []
  },
  {
   "cell_type": "code",
   "execution_count": null,
   "id": "48c105f2",
   "metadata": {},
   "outputs": [],
   "source": []
  },
  {
   "cell_type": "code",
   "execution_count": null,
   "id": "0f4a80ba",
   "metadata": {},
   "outputs": [],
   "source": []
  }
 ],
 "metadata": {
  "kernelspec": {
   "display_name": "Python 3 (ipykernel)",
   "language": "python",
   "name": "python3"
  },
  "language_info": {
   "codemirror_mode": {
    "name": "ipython",
    "version": 3
   },
   "file_extension": ".py",
   "mimetype": "text/x-python",
   "name": "python",
   "nbconvert_exporter": "python",
   "pygments_lexer": "ipython3",
   "version": "3.9.12"
  }
 },
 "nbformat": 4,
 "nbformat_minor": 5
}
